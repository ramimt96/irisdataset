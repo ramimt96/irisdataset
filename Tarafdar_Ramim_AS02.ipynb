{
 "cells": [
  {
   "cell_type": "markdown",
   "metadata": {},
   "source": [
    "### Author: Ramim Tarafdar\n",
    "\n",
    "Assignment 2\n",
    "\n",
    "2/27/24"
   ]
  },
  {
   "cell_type": "code",
   "execution_count": 1,
   "metadata": {},
   "outputs": [],
   "source": [
    "import numpy as np\n",
    "import pandas as pd\n",
    "import matplotlib.pyplot as plt \n",
    "from mpl_toolkits import mplot3d\n",
    "from sklearn import datasets\n",
    "from sklearn.model_selection import train_test_split\n",
    "from sklearn.linear_model import Perceptron\n",
    "from sklearn.linear_model import SGDClassifier"
   ]
  },
  {
   "cell_type": "markdown",
   "metadata": {},
   "source": [
    "Load the Iris dataset and preprocess the data to make it easier to work with proper labels."
   ]
  },
  {
   "cell_type": "code",
   "execution_count": 2,
   "metadata": {},
   "outputs": [
    {
     "name": "stderr",
     "output_type": "stream",
     "text": [
      "C:\\Users\\rtara\\AppData\\Local\\Temp\\ipykernel_8544\\100579675.py:5: FutureWarning: Downcasting behavior in `replace` is deprecated and will be removed in a future version. To retain the old behavior, explicitly call `result.infer_objects(copy=False)`. To opt-in to the future behavior, set `pd.set_option('future.no_silent_downcasting', True)`\n",
      "  iris = df.replace([\"Iris-setosa\", \"Iris-versicolor\", \"Iris-virginica\"],\n"
     ]
    },
    {
     "data": {
      "text/html": [
       "<div>\n",
       "<style scoped>\n",
       "    .dataframe tbody tr th:only-of-type {\n",
       "        vertical-align: middle;\n",
       "    }\n",
       "\n",
       "    .dataframe tbody tr th {\n",
       "        vertical-align: top;\n",
       "    }\n",
       "\n",
       "    .dataframe thead th {\n",
       "        text-align: right;\n",
       "    }\n",
       "</style>\n",
       "<table border=\"1\" class=\"dataframe\">\n",
       "  <thead>\n",
       "    <tr style=\"text-align: right;\">\n",
       "      <th></th>\n",
       "      <th>sepal length (cm)</th>\n",
       "      <th>sepal width (cm)</th>\n",
       "      <th>petal length (cm)</th>\n",
       "      <th>petal width (cm)</th>\n",
       "      <th>species</th>\n",
       "    </tr>\n",
       "  </thead>\n",
       "  <tbody>\n",
       "    <tr>\n",
       "      <th>0</th>\n",
       "      <td>5.1</td>\n",
       "      <td>3.5</td>\n",
       "      <td>1.4</td>\n",
       "      <td>0.2</td>\n",
       "      <td>0</td>\n",
       "    </tr>\n",
       "    <tr>\n",
       "      <th>1</th>\n",
       "      <td>4.9</td>\n",
       "      <td>3.0</td>\n",
       "      <td>1.4</td>\n",
       "      <td>0.2</td>\n",
       "      <td>0</td>\n",
       "    </tr>\n",
       "    <tr>\n",
       "      <th>2</th>\n",
       "      <td>4.7</td>\n",
       "      <td>3.2</td>\n",
       "      <td>1.3</td>\n",
       "      <td>0.2</td>\n",
       "      <td>0</td>\n",
       "    </tr>\n",
       "    <tr>\n",
       "      <th>3</th>\n",
       "      <td>4.6</td>\n",
       "      <td>3.1</td>\n",
       "      <td>1.5</td>\n",
       "      <td>0.2</td>\n",
       "      <td>0</td>\n",
       "    </tr>\n",
       "    <tr>\n",
       "      <th>4</th>\n",
       "      <td>5.0</td>\n",
       "      <td>3.6</td>\n",
       "      <td>1.4</td>\n",
       "      <td>0.2</td>\n",
       "      <td>0</td>\n",
       "    </tr>\n",
       "  </tbody>\n",
       "</table>\n",
       "</div>"
      ],
      "text/plain": [
       "   sepal length (cm)  sepal width (cm)  petal length (cm)  petal width (cm)  \\\n",
       "0                5.1               3.5                1.4               0.2   \n",
       "1                4.9               3.0                1.4               0.2   \n",
       "2                4.7               3.2                1.3               0.2   \n",
       "3                4.6               3.1                1.5               0.2   \n",
       "4                5.0               3.6                1.4               0.2   \n",
       "\n",
       "   species  \n",
       "0        0  \n",
       "1        0  \n",
       "2        0  \n",
       "3        0  \n",
       "4        0  "
      ]
     },
     "execution_count": 2,
     "metadata": {},
     "output_type": "execute_result"
    }
   ],
   "source": [
    "df = pd.read_csv('iris.csv', \n",
    "                   header = None, \n",
    "                   names=[\"sepal length (cm)\", \"sepal width (cm)\", \"petal length (cm)\", \"petal width (cm)\", \"species\"])\n",
    "\n",
    "iris = df.replace([\"Iris-setosa\", \"Iris-versicolor\", \"Iris-virginica\"],\n",
    "                  [0, 1, 2])\n",
    "\n",
    "iris.head()"
   ]
  },
  {
   "cell_type": "markdown",
   "metadata": {},
   "source": [
    "Create a list of combinations that meet the requirements of the assignment, utlizing two, three and all features available."
   ]
  },
  {
   "cell_type": "code",
   "execution_count": 3,
   "metadata": {},
   "outputs": [],
   "source": [
    "combinations = [\n",
    "    {'2 Features A': ['sepal length (cm)', 'petal length (cm)']},\n",
    "    {'2 Features B': ['sepal width (cm)', 'petal width (cm)']},\n",
    "    {'3 Features': ['sepal length (cm)', 'sepal width (cm)', 'petal length (cm)']},\n",
    "    {'4 Features': ['sepal length (cm)', 'sepal width (cm)', 'petal length (cm)', 'petal width (cm)']}\n",
    "]"
   ]
  },
  {
   "cell_type": "markdown",
   "metadata": {},
   "source": [
    "Train and fit the models using the four loss functions and appened the accuracy results in a list for plotting. Print the results grouped by the combinations and corresponding loss function."
   ]
  },
  {
   "cell_type": "code",
   "execution_count": 47,
   "metadata": {},
   "outputs": [
    {
     "name": "stdout",
     "output_type": "stream",
     "text": [
      "2 Features A\n",
      "hinge: 0.8800\n",
      "perceptron: 0.6133\n",
      "log_loss: 0.9733\n",
      "modified_huber: 0.6800\n",
      "\n",
      "\n",
      "2 Features B\n",
      "hinge: 0.8933\n",
      "perceptron: 0.8667\n",
      "log_loss: 0.9533\n",
      "modified_huber: 0.9467\n",
      "\n",
      "\n",
      "3 Features\n",
      "hinge: 0.6733\n",
      "perceptron: 0.7067\n",
      "log_loss: 0.8267\n",
      "modified_huber: 0.6200\n",
      "\n",
      "\n",
      "4 Features\n",
      "hinge: 0.9133\n",
      "perceptron: 0.9267\n",
      "log_loss: 0.6800\n",
      "modified_huber: 0.8667\n",
      "\n",
      "\n"
     ]
    }
   ],
   "source": [
    "results = []\n",
    "\n",
    "lossfn = ['hinge','perceptron','log_loss','modified_huber']\n",
    "\n",
    "for comb in combinations:\n",
    "    for label, features in comb.items():\n",
    "        XX = iris[features].values\n",
    "        YY = iris['species'].values\n",
    "        \n",
    "        print(label)\n",
    "        for lfn in lossfn:\n",
    "            clf = SGDClassifier(lfn ,tol=1e-4, random_state=0)\n",
    "            clf.fit(XX, YY)\n",
    "            accuracy = clf.score(XX, YY)\n",
    "            print(f\"{lfn}: {accuracy:.4f}\")\n",
    "            results.append({'Combination': label, 'Loss Function': lfn, 'Accuracy':accuracy})\n",
    "        print('\\n')\n",
    "\n"
   ]
  },
  {
   "cell_type": "markdown",
   "metadata": {},
   "source": [
    "Plot the results onto bar graphs to analyze effectiveness and accuracy between the functions across the four combinations."
   ]
  },
  {
   "cell_type": "code",
   "execution_count": 5,
   "metadata": {},
   "outputs": [
    {
     "data": {
      "image/png": "[encoded data removed]",
      "text/plain": [
       "<Figure size 1000x600 with 4 Axes>"
      ]
     },
     "metadata": {},
     "output_type": "display_data"
    }
   ],
   "source": [
    "results_df = pd.DataFrame(results)\n",
    "\n",
    "plt.figure(figsize=(10, 6))\n",
    "for i, (label, data) in enumerate(results_df.groupby('Combination')):\n",
    "    plt.subplot(2, 2, i+1)\n",
    "    plt.bar(data['Loss Function'], data['Accuracy'])\n",
    "    plt.title(label)\n",
    "    plt.xlabel('Loss Function')\n",
    "    plt.ylabel('Accuracy')\n",
    "    plt.ylim(0, 1)\n",
    "\n",
    "plt.tight_layout()\n",
    "plt.show()"
   ]
  },
  {
   "cell_type": "markdown",
   "metadata": {},
   "source": [
    "CONCLUSIONS\n",
    "\n",
    "The purpose of our assignment was to assess how well different loss functions and feature combinations performed on a model that was trained using the Iris dataset, which included 150 samples from three different flower species (Setora, Versicolor, and Virginica).  From the results, we can observe the variations in accuracies across combinations and loss functions visually on graphs.\n",
    "\n",
    "Among the four combinations used for this specific model, using all four features (sepal length, sepal width, petal length, and petal width) produced higher accuracies across the loss functions for than smaller combinations. This implies that improved classifications may result from training models on huge datasets. However, the unique combination of sepal width and petal width (2 Features B) also performed extremely well, suggesting that certain features or combinations can result in greater results on their own.\n",
    "\n",
    "Looking at the loss functions, we notice that the log_loss and hinge functions generally performed better than the perceptron or modified_huber. In particular, the log_loss functionconsistently outperformed the others when it came to two and three features, which indicates its effectiveness on this model. However, there was also a variation observed where the log_loss underperformed significantly when tested on the four feature combination. This goes to show the importance of selecting the proper loss function depending on the size of your training dataset.\n",
    "\n",
    "To conclude, our findings highlight the importance of variable and loss function consideration when building classification models. Some functions outperform others but have certain drawbacks in specific conditions, which must be considered for each model. There may also be the need for additional parameters to be set in order to ensure greater accuracy and consistency. "
   ]
  }
 ],
 "metadata": {
  "anaconda-cloud": {},
  "kernelspec": {
   "display_name": "Python 3 (ipykernel)",
   "language": "python",
   "name": "python3"
  },
  "language_info": {
   "codemirror_mode": {
    "name": "ipython",
    "version": 3
   },
   "file_extension": ".py",
   "mimetype": "text/x-python",
   "name": "python",
   "nbconvert_exporter": "python",
   "pygments_lexer": "ipython3",
   "version": "3.12.2"
  }
 },
 "nbformat": 4,
 "nbformat_minor": 1
}
